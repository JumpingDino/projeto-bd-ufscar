{
 "cells": [
  {
   "cell_type": "code",
   "execution_count": null,
   "metadata": {},
   "outputs": [],
   "source": [
    "import os\n",
    "os.chdir('../')\n",
    "\n",
    "import numpy as np\n",
    "import pandas as pd\n",
    "\n",
    "import yaml\n",
    "from yaml.loader import SafeLoader\n",
    "\n",
    "import json\n",
    "import redis\n",
    "\n",
    "def read_yaml(path_yaml):\n",
    "    \n",
    "    with open(path_yaml, \"r\") as file:\n",
    "        data = yaml.safe_load(file)\n",
    "        \n",
    "    return data\n",
    "\n",
    "def insert_one(db,key,value):\n",
    "    db.set(key,value)\n",
    "    return None\n",
    "\n",
    "def retrieve(db,key):\n",
    "    '''Retrieve values from a given key and database'''\n",
    "    return db.get(key)\n",
    "\n",
    "def list_keys(db,return_list = True):\n",
    "    \n",
    "    keys = []\n",
    "    for key in db.scan_iter():\n",
    "        keys.append(key)\n",
    "        \n",
    "    return keys\n",
    "\n",
    "cred = read_yaml('credentials.yaml')"
   ]
  },
  {
   "cell_type": "code",
   "execution_count": null,
   "metadata": {},
   "outputs": [],
   "source": [
    "#conecta com banco Redis\n",
    "r = redis.Redis(\n",
    "    host = cred['redis']['host'],\n",
    "    username = cred['redis']['username'],\n",
    "    port= cred['redis']['port'], \n",
    "    password= cred['redis']['password']\n",
    ")\n",
    "\n",
    "#Teste para ver se a conexão ofi bem sucedida\n",
    "r.ping()"
   ]
  },
  {
   "cell_type": "code",
   "execution_count": null,
   "metadata": {},
   "outputs": [],
   "source": [
    "cat_seller =pd.read_csv('data/Redis-CategoryID.csv')\n",
    "prd_seller =pd.read_csv('data/Redis-ProductID.csv')\n",
    "rds_seller = pd.read_csv('data/Redis-SellerID.csv')"
   ]
  },
  {
   "cell_type": "code",
   "execution_count": null,
   "metadata": {},
   "outputs": [],
   "source": [
    "print('Category ID:',len(cat_seller))\n",
    "print('Product ID:',len(prd_seller))\n",
    "print('Seller ID:',len(rds_seller))"
   ]
  },
  {
   "cell_type": "code",
   "execution_count": 20,
   "metadata": {},
   "outputs": [],
   "source": [
    "# for k,v in redis_records.items():\n",
    "#     insert_one(r,k,json.dumps(v))"
   ]
  },
  {
   "cell_type": "markdown",
   "metadata": {},
   "source": [
    "Dump de product_category_name por product id"
   ]
  },
  {
   "cell_type": "code",
   "execution_count": 22,
   "metadata": {},
   "outputs": [],
   "source": [
    "df = cat_seller\n",
    "key_name = 'product_category_name'\n",
    "value_name = 'product_id'\n",
    "\n",
    "kv = df.to_dict('records')\n",
    "for i in range(len(df)):\n",
    "    key  = kv[i][key_name]\n",
    "    value = kv[i][value_name]\n",
    "    \n",
    "    insert_one(r,key,json.dumps(value))"
   ]
  },
  {
   "cell_type": "markdown",
   "metadata": {},
   "source": [
    "Dump de product_ids por seller_ids"
   ]
  },
  {
   "cell_type": "code",
   "execution_count": null,
   "metadata": {},
   "outputs": [],
   "source": [
    "df = prd_seller\n",
    "key_name = 'product_id'\n",
    "value_name = 'seller_id'\n",
    "\n",
    "kv = df.to_dict('records')\n",
    "for i in range(len(df)):\n",
    "    key  = kv[i][key_name]\n",
    "    value = kv[i][value_name]\n",
    "    \n",
    "    insert_one(r,key,json.dumps(value))"
   ]
  },
  {
   "cell_type": "markdown",
   "metadata": {},
   "source": [
    "Dump de seller_id por product_id"
   ]
  },
  {
   "cell_type": "code",
   "execution_count": 31,
   "metadata": {},
   "outputs": [],
   "source": [
    "df = rds_seller\n",
    "key_name = 'seller_id'\n",
    "value_name = 'product_id'\n",
    "\n",
    "kv = df.to_dict('records')\n",
    "for i in range(len(df)):\n",
    "    key  = kv[i][key_name]\n",
    "    value = kv[i][value_name]\n",
    "    \n",
    "    insert_one(r,key,json.dumps(value))"
   ]
  },
  {
   "cell_type": "code",
   "execution_count": 26,
   "metadata": {},
   "outputs": [
    {
     "data": {
      "text/plain": [
       "b'\"{\\'a556987a68ce3f7240da198c00f0305d\\', \\'b0694770dbbfebe2d48cd288cfce2f85\\', \\'68c62bdee06acdb180f27f73a34cc40b\\', \\'ddf08c1f4da4aeb900e20da32cee2c50\\', \\'bf359473d58e90d8fc29bf8f3d282ea9\\', \\'804a1a0d5ac09246cf0d527bbd4c5aa3\\', \\'cbaff83e2c00a2b731d27276bbf52082\\', \\'dc7e6c809b71f69934396f954df16806\\', \\'5299e0a0336b5839e2a0ccb0d3d589d1\\', \\'058755c380722a806fc5440093c2c5bf\\', \\'986c47683f9e701e110a0cc525dfac87\\', \\'48633254f8b7b802b1ca8c4f4dcf3e33\\', \\'749d3e9ac43e769ce6245a97630f6543\\', \\'7aa0cae255d70952492eb4b58b4815e7\\', \\'4673c83bbad0277b120ac3251d4b3633\\', \\'986700c98805af229ab7ad51b95fa356\\', \\'d727c091d4ce7f59b5e690ce0b58b1ea\\', \\'538948f39142c635d3132846c820e211\\', \\'76397820b3556e99a4a2e3056eca24e5\\', \\'d3d10495159bcc41173e3d26a273529a\\', \\'9cf421049bcfaf6983bf0dfb40831a03\\', \\'d62ed986672bfab13938e62e6badec55\\', \\'ef61e93a7d0d8843a965440649bc0711\\', \\'19f1b5c58fd03aa8c41db25200829903\\', \\'f3c5f7d4a6b87b94a7ce5fa1c1b2ca10\\', \\'5304ff3fa35856a156e1170a6022d34d\\', \\'aedb7e30007f6051c5b3f97156b0848a\\', \\'3aa071139cb16b67ca9e5dea641aaa2f\\', \\'141807ad4a13efebac9bbd9609137182\\', \\'2338a290bd0581fde51b770baeddb0a6\\', \\'38841dec90eddf2f43cdfabc48b3831a\\', \\'50a64d6b01398039142e3e0be6f2fca4\\', \\'4c6aedb2bfbcb47f59db757dfc22c607\\', \\'cbf96c04205dc933b89e025748c2a057\\', \\'f20135d2d37130bbd6a2a9fa2e501e8f\\', \\'4b90d2bd65c83d4ad8a370c2cd3f277c\\', \\'3262a0950995f2a891ec1fdfe6f5a133\\', \\'159065411d54fa1f2232d949976883db\\', \\'056d07eb7d9c446e3780a3a7f102190d\\', \\'49ab5384de586d3e4efd9072c43d50be\\', \\'48e5af4df590c37a05a29b5c86e020e1\\', \\'fef11bcb9bda869da356243b240c07b7\\', \\'23aaf24124ff41ebd81163d245aae6f3\\', \\'1bdf5e6731585cf01aa8169c7028d6ad\\', \\'7d1a4ebaf97da87516f9b108af5bd3e3\\', \\'be9bf7ba4c99709e44c413d4ffe9dfa4\\', \\'2ea654ee9e83b7622ce3ac79ce772970\\', \\'4fe644d766c7566dbc46fb851363cb3b\\', \\'58f036d3b8f12d9378518f902fb4e226\\', \\'a6579aa8d097e9c13d6749ecf4a2117f\\', \\'824c6ddf72c012b701b3e83b258581d4\\', \\'c7ef7595086f6654865bdd390d924f73\\', \\'42f33073be6531e8f6d0a18fda862ea1\\', \\'0745c4686dc8b30d30a5546c781d1e96\\', \\'a793f6312549f217138244dda30208c5\\'}\"'"
      ]
     },
     "execution_count": 26,
     "metadata": {},
     "output_type": "execute_result"
    }
   ],
   "source": [
    "#Recuperando sellers que vendem possuem produto da categoria \"artes\"\n",
    "retrieve(r,'artes')"
   ]
  }
 ],
 "metadata": {
  "kernelspec": {
   "display_name": "Python 3",
   "language": "python",
   "name": "python3"
  },
  "language_info": {
   "codemirror_mode": {
    "name": "ipython",
    "version": 3
   },
   "file_extension": ".py",
   "mimetype": "text/x-python",
   "name": "python",
   "nbconvert_exporter": "python",
   "pygments_lexer": "ipython3",
   "version": "3.8.5"
  }
 },
 "nbformat": 4,
 "nbformat_minor": 4
}
