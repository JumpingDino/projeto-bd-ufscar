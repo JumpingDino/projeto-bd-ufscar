{
 "cells": [
  {
   "cell_type": "code",
   "execution_count": 1,
   "metadata": {},
   "outputs": [],
   "source": [
    "import os\n",
    "os.chdir('../')\n",
    "\n",
    "import numpy as np\n",
    "import pandas as pd\n",
    "\n",
    "import yaml\n",
    "from yaml.loader import SafeLoader\n",
    "\n",
    "import json\n",
    "import redis\n",
    "\n",
    "def read_yaml(path_yaml):\n",
    "    \n",
    "    with open(path_yaml, \"r\") as file:\n",
    "        data = yaml.safe_load(file)\n",
    "        \n",
    "    return data\n",
    "\n",
    "def insert_one(db,key,value):\n",
    "    db.set(key,value)\n",
    "    return None\n",
    "\n",
    "def retrieve(db,key):\n",
    "    '''Retrieve values from a given key and database'''\n",
    "    return db.get(key)\n",
    "\n",
    "def list_keys(db,return_list = True):\n",
    "    \n",
    "    keys = []\n",
    "    for key in db.scan_iter():\n",
    "        keys.append(key)\n",
    "        \n",
    "    return keys\n",
    "\n",
    "cred = read_yaml('credentials.yaml')"
   ]
  },
  {
   "cell_type": "code",
   "execution_count": 2,
   "metadata": {},
   "outputs": [],
   "source": [
    "#conecta com banco Redis\n",
    "r = redis.Redis(\n",
    "    host = cred['redis']['host'],\n",
    "    username = cred['redis']['username'],\n",
    "    port= cred['redis']['port'], \n",
    "    password= cred['redis']['password'])"
   ]
  },
  {
   "cell_type": "code",
   "execution_count": null,
   "metadata": {},
   "outputs": [],
   "source": [
    "insert_one(db, )"
   ]
  },
  {
   "cell_type": "code",
   "execution_count": 3,
   "metadata": {},
   "outputs": [
    {
     "data": {
      "text/plain": [
       "{'product_category_name': \"['cama_mesa_banho']\",\n",
       " 'customer_state_x': \"['SP']\",\n",
       " 'review_comment_message': \"['Adorei a cortina, ficou linda na minha sala, e o tecido é lindo deixa a sala muito sofisticada. super recomendo']\",\n",
       " 'seller_id': \"['da8622b14eb17ae2831f4ac5b9dab84a']\",\n",
       " 'price': '[129.9]',\n",
       " 'freight_value': '[12.0]',\n",
       " 'product_category_name.1': \"['cama_mesa_banho']\",\n",
       " 'customer_zip_code_prefix': 7787,\n",
       " 'customer_city': 'cajamar',\n",
       " 'customer_state_y': 'SP',\n",
       " 'product_photos_qty': 1.0,\n",
       " 'product_weight_g': 1500.0,\n",
       " 'product_length_cm': 34.0,\n",
       " 'product_height_cm': 7.0,\n",
       " 'product_width_cm': 32.0}"
      ]
     },
     "execution_count": 3,
     "metadata": {},
     "output_type": "execute_result"
    }
   ],
   "source": [
    "json.loads(retrieve(r,\"0000366f3b9a7992bf8c76cfdf3221e2\"))"
   ]
  },
  {
   "cell_type": "code",
   "execution_count": 8,
   "metadata": {},
   "outputs": [
    {
     "data": {
      "text/plain": [
       "{'product_category_name': \"['moveis_decoracao', 'moveis_decoracao', 'moveis_decoracao', 'moveis_decoracao', 'moveis_decoracao', 'moveis_decoracao', 'moveis_decoracao', 'moveis_decoracao', 'moveis_decoracao', 'moveis_decoracao', 'moveis_decoracao', 'moveis_decoracao', 'moveis_decoracao', 'moveis_decoracao', 'moveis_decoracao', 'moveis_decoracao', 'moveis_decoracao', 'moveis_decoracao']\",\n",
       " 'customer_state_x': \"['PR', 'PR', 'PR', 'PR', 'PR', 'PR', 'PR', 'PR', 'PR', 'PR', 'PR', 'PR', 'PR', 'PR', 'PR', 'PR', 'PR', 'PR']\",\n",
       " 'review_comment_message': '[nan, nan, nan, nan, nan, nan, nan, nan, nan, nan, nan, nan, nan, nan, nan, nan, nan, nan]',\n",
       " 'seller_id': \"['157c3e4b42f81ac4a44e8b1ca2fe9876', '157c3e4b42f81ac4a44e8b1ca2fe9876', '157c3e4b42f81ac4a44e8b1ca2fe9876', 'f326006815956455b2859abd58fe7e39', 'f326006815956455b2859abd58fe7e39', 'f326006815956455b2859abd58fe7e39', 'f326006815956455b2859abd58fe7e39', 'f326006815956455b2859abd58fe7e39', 'f326006815956455b2859abd58fe7e39', 'f326006815956455b2859abd58fe7e39', 'f326006815956455b2859abd58fe7e39', 'f326006815956455b2859abd58fe7e39', 'f326006815956455b2859abd58fe7e39', 'f326006815956455b2859abd58fe7e39', 'f326006815956455b2859abd58fe7e39', 'f326006815956455b2859abd58fe7e39', 'f326006815956455b2859abd58fe7e39', 'f326006815956455b2859abd58fe7e39']\",\n",
       " 'price': '[90.0, 90.0, 90.0, 65.49, 65.49, 65.49, 65.49, 65.49, 65.49, 65.49, 65.49, 65.49, 65.49, 65.49, 65.49, 65.49, 65.49, 65.49]',\n",
       " 'freight_value': '[16.39, 16.39, 16.39, 16.22, 16.22, 16.22, 16.22, 16.22, 16.22, 16.22, 16.22, 16.22, 16.22, 16.22, 16.22, 16.22, 16.22, 16.22]',\n",
       " 'product_category_name.1': \"['moveis_decoracao', 'moveis_decoracao', 'moveis_decoracao', 'moveis_decoracao', 'moveis_decoracao', 'moveis_decoracao', 'moveis_decoracao', 'moveis_decoracao', 'moveis_decoracao', 'moveis_decoracao', 'moveis_decoracao', 'moveis_decoracao', 'moveis_decoracao', 'moveis_decoracao', 'moveis_decoracao', 'moveis_decoracao', 'moveis_decoracao', 'moveis_decoracao']\",\n",
       " 'customer_zip_code_prefix': 84600,\n",
       " 'customer_city': 'uniao da vitoria',\n",
       " 'customer_state_y': 'PR',\n",
       " 'product_photos_qty': 1.0,\n",
       " 'product_weight_g': 3500.0,\n",
       " 'product_length_cm': 40.0,\n",
       " 'product_height_cm': 20.0,\n",
       " 'product_width_cm': 40.0}"
      ]
     },
     "execution_count": 8,
     "metadata": {},
     "output_type": "execute_result"
    }
   ],
   "source": [
    "json.loads(retrieve(r,\"0f5ac8d5c31de21d2f25e24be15bbffb\"))"
   ]
  },
  {
   "cell_type": "code",
   "execution_count": 4,
   "metadata": {},
   "outputs": [],
   "source": [
    "df = pd.read_csv('data/df_agg_unique_customer.csv')\n",
    "df.drop(['Unnamed: 0'],axis=1, inplace=True)\n",
    "redis_records = df.drop_duplicates(subset=['customer_unique_id'])\\\n",
    "               .set_index('customer_unique_id').to_dict('index')"
   ]
  },
  {
   "cell_type": "markdown",
   "metadata": {},
   "source": [
    "### Formato Chave-Valor no Redis"
   ]
  },
  {
   "cell_type": "code",
   "execution_count": 7,
   "metadata": {},
   "outputs": [],
   "source": [
    "# \"0000366f3b9a7992bf8c76cfdf3221e2\": {\n",
    "#     'product_category_name': ['cama_mesa_banho'],\n",
    "#     'customer_state_x': ['SP'],\n",
    "#     'review_comment_message': ['Adorei a cortina, ficou linda na minha sala, e o tecido é lindo deixa a sala muito sofisticada. super recomendo'],\n",
    "#     'seller_id': ['da8622b14eb17ae2831f4ac5b9dab84a'],\n",
    "#     'price': [129.9],\n",
    "#     'freight_value': [12.0],\n",
    "#     'product_category_name.1': ['cama_mesa_banho'],\n",
    "#     'customer_zip_code_prefix': 7787,\n",
    "#     'customer_city': 'cajamar',\n",
    "#     'customer_state_y': 'SP',\n",
    "#     'product_photos_qty': 1.0,\n",
    "#     'product_weight_g': 1500.0,\n",
    "#     'product_length_cm': 34.0,\n",
    "#     'product_height_cm': 7.0,\n",
    "#     'product_width_cm': 32.0\n",
    "#     }"
   ]
  }
 ],
 "metadata": {
  "kernelspec": {
   "display_name": "Python 3",
   "language": "python",
   "name": "python3"
  },
  "language_info": {
   "codemirror_mode": {
    "name": "ipython",
    "version": 3
   },
   "file_extension": ".py",
   "mimetype": "text/x-python",
   "name": "python",
   "nbconvert_exporter": "python",
   "pygments_lexer": "ipython3",
   "version": "3.8.5"
  }
 },
 "nbformat": 4,
 "nbformat_minor": 4
}
